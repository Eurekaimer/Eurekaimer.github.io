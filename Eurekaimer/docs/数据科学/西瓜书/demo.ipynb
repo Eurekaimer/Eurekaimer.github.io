{
 "cells": [
  {
   "cell_type": "markdown",
   "id": "525d1999-b0f9-48e4-95e2-eab8ad0779a8",
   "metadata": {},
   "source": [
    "# Test_Title"
   ]
  },
  {
   "cell_type": "markdown",
   "id": "c4e6699c-fdf9-49e5-86a1-3dac248f92b9",
   "metadata": {},
   "source": [
    "## dasdas"
   ]
  },
  {
   "cell_type": "code",
   "execution_count": 1,
   "id": "8373adda-cf8c-4af9-9672-3f1735a3e5ae",
   "metadata": {},
   "outputs": [
    {
     "name": "stdout",
     "output_type": "stream",
     "text": [
      "Hello world\n"
     ]
    }
   ],
   "source": [
    "print(\"Hello world\")"
   ]
  },
  {
   "cell_type": "code",
   "execution_count": 2,
   "id": "2d47521e-1c0c-4954-9cbc-7148c13913cc",
   "metadata": {},
   "outputs": [
    {
     "name": "stdout",
     "output_type": "stream",
     "text": [
      "Hello world\n"
     ]
    }
   ],
   "source": [
    "print(\"Hello world\")"
   ]
  }
 ],
 "metadata": {
  "kernelspec": {
   "display_name": "DL",
   "language": "python",
   "name": "dl"
  },
  "language_info": {
   "codemirror_mode": {
    "name": "ipython",
    "version": 3
   },
   "file_extension": ".py",
   "mimetype": "text/x-python",
   "name": "python",
   "nbconvert_exporter": "python",
   "pygments_lexer": "ipython3",
   "version": "3.10.18"
  }
 },
 "nbformat": 4,
 "nbformat_minor": 5
}
